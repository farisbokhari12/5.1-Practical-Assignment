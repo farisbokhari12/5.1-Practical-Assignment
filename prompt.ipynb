{
  "cells": [
    {
      "cell_type": "markdown",
      "metadata": {
        "id": "wqYLUyog6HfU"
      },
      "source": [
        "### Will a Customer Accept the Coupon?\n",
        "\n",
        "**Context**\n",
        "\n",
        "Imagine driving through town and a coupon is delivered to your cell phone for a restaraunt near where you are driving. Would you accept that coupon and take a short detour to the restaraunt? Would you accept the coupon but use it on a sunbsequent trip? Would you ignore the coupon entirely? What if the coupon was for a bar instead of a restaraunt? What about a coffee house? Would you accept a bar coupon with a minor passenger in the car? What about if it was just you and your partner in the car? Would weather impact the rate of acceptance? What about the time of day?\n",
        "\n",
        "Obviously, proximity to the business is a factor on whether the coupon is delivered to the driver or not, but what are the factors that determine whether a driver accepts the coupon once it is delivered to them? How would you determine whether a driver is likely to accept a coupon?\n",
        "\n",
        "**Overview**\n",
        "\n",
        "The goal of this project is to use what you know about visualizations and probability distributions to distinguish between customers who accepted a driving coupon versus those that did not.\n",
        "\n",
        "**Data**\n",
        "\n",
        "This data comes to us from the UCI Machine Learning repository and was collected via a survey on Amazon Mechanical Turk. The survey describes different driving scenarios including the destination, current time, weather, passenger, etc., and then ask the person whether he will accept the coupon if he is the driver. Answers that the user will drive there ‘right away’ or ‘later before the coupon expires’ are labeled as ‘Y = 1’ and answers ‘no, I do not want the coupon’ are labeled as ‘Y = 0’.  There are five different types of coupons -- less expensive restaurants (under \\\\$20), coffee houses, carry out & take away, bar, and more expensive restaurants (\\\\$20 - \\\\$50)."
      ]
    },
    {
      "cell_type": "markdown",
      "metadata": {
        "id": "OeS2Z1jI6HfW"
      },
      "source": [
        "**Deliverables**\n",
        "\n",
        "Your final product should be a brief report that highlights the differences between customers who did and did not accept the coupons.  To explore the data you will utilize your knowledge of plotting, statistical summaries, and visualization using Python. You will publish your findings in a public facing github repository as your first portfolio piece.\n",
        "\n",
        "\n",
        "\n"
      ]
    },
    {
      "cell_type": "markdown",
      "metadata": {
        "id": "tVaRyk5U6HfW"
      },
      "source": [
        "### Data Description\n",
        "Keep in mind that these values mentioned below are average values.\n",
        "\n",
        "The attributes of this data set include:\n",
        "1. User attributes\n",
        "    -  Gender: male, female\n",
        "    -  Age: below 21, 21 to 25, 26 to 30, etc.\n",
        "    -  Marital Status: single, married partner, unmarried partner, or widowed\n",
        "    -  Number of children: 0, 1, or more than 1\n",
        "    -  Education: high school, bachelors degree, associates degree, or graduate degree\n",
        "    -  Occupation: architecture & engineering, business & financial, etc.\n",
        "    -  Annual income: less than \\\\$12500, \\\\$12500 - \\\\$24999, \\\\$25000 - \\\\$37499, etc.\n",
        "    -  Number of times that he/she goes to a bar: 0, less than 1, 1 to 3, 4 to 8 or greater than 8\n",
        "    -  Number of times that he/she buys takeaway food: 0, less than 1, 1 to 3, 4 to 8 or greater\n",
        "    than 8\n",
        "    -  Number of times that he/she goes to a coffee house: 0, less than 1, 1 to 3, 4 to 8 or\n",
        "    greater than 8\n",
        "    -  Number of times that he/she eats at a restaurant with average expense less than \\\\$20 per\n",
        "    person: 0, less than 1, 1 to 3, 4 to 8 or greater than 8\n",
        "    -  Number of times that he/she goes to a bar: 0, less than 1, 1 to 3, 4 to 8 or greater than 8\n",
        "    \n",
        "\n",
        "2. Contextual attributes\n",
        "    - Driving destination: home, work, or no urgent destination\n",
        "    - Location of user, coupon and destination: we provide a map to show the geographical\n",
        "    location of the user, destination, and the venue, and we mark the distance between each\n",
        "    two places with time of driving. The user can see whether the venue is in the same\n",
        "    direction as the destination.\n",
        "    - Weather: sunny, rainy, or snowy\n",
        "    - Temperature: 30F, 55F, or 80F\n",
        "    - Time: 10AM, 2PM, or 6PM\n",
        "    - Passenger: alone, partner, kid(s), or friend(s)\n",
        "\n",
        "\n",
        "3. Coupon attributes\n",
        "    - time before it expires: 2 hours or one day"
      ]
    },
    {
      "cell_type": "code",
      "execution_count": 2,
      "metadata": {
        "id": "0f_9n2_m6HfW"
      },
      "outputs": [],
      "source": [
        "import matplotlib.pyplot as plt\n",
        "import seaborn as sns\n",
        "import pandas as pd\n",
        "import numpy as np"
      ]
    },
    {
      "cell_type": "markdown",
      "metadata": {
        "id": "VxrO-YEb6HfX"
      },
      "source": [
        "### Problems\n",
        "\n",
        "Use the prompts below to get started with your data analysis.  \n",
        "\n",
        "1. Read in the `coupons.csv` file.\n",
        "\n",
        "\n"
      ]
    },
    {
      "cell_type": "code",
      "execution_count": 5,
      "metadata": {
        "id": "naCAXi186HfY"
      },
      "outputs": [],
      "source": [
        "data = pd.read_csv('coupons.csv')"
      ]
    },
    {
      "cell_type": "code",
      "execution_count": 6,
      "metadata": {
        "colab": {
          "base_uri": "https://localhost:8080/",
          "height": 342
        },
        "id": "YW3ENxoY6HfY",
        "outputId": "da9f3581-26ba-46a7-c97b-cf58415c63d4"
      },
      "outputs": [
        {
          "output_type": "execute_result",
          "data": {
            "text/plain": [
              "       destination  passanger weather  temperature  time  \\\n",
              "0  No Urgent Place      Alone   Sunny           55   2PM   \n",
              "1  No Urgent Place  Friend(s)   Sunny           80  10AM   \n",
              "2  No Urgent Place  Friend(s)   Sunny           80  10AM   \n",
              "3  No Urgent Place  Friend(s)   Sunny           80   2PM   \n",
              "4  No Urgent Place  Friend(s)   Sunny           80   2PM   \n",
              "\n",
              "                  coupon expiration  gender age      maritalStatus  ...  \\\n",
              "0        Restaurant(<20)         1d  Female  21  Unmarried partner  ...   \n",
              "1           Coffee House         2h  Female  21  Unmarried partner  ...   \n",
              "2  Carry out & Take away         2h  Female  21  Unmarried partner  ...   \n",
              "3           Coffee House         2h  Female  21  Unmarried partner  ...   \n",
              "4           Coffee House         1d  Female  21  Unmarried partner  ...   \n",
              "\n",
              "   CoffeeHouse CarryAway RestaurantLessThan20 Restaurant20To50  \\\n",
              "0        never       NaN                  4~8              1~3   \n",
              "1        never       NaN                  4~8              1~3   \n",
              "2        never       NaN                  4~8              1~3   \n",
              "3        never       NaN                  4~8              1~3   \n",
              "4        never       NaN                  4~8              1~3   \n",
              "\n",
              "  toCoupon_GEQ5min toCoupon_GEQ15min toCoupon_GEQ25min direction_same  \\\n",
              "0              1.0               0.0               0.0            0.0   \n",
              "1              1.0               0.0               0.0            0.0   \n",
              "2              1.0               1.0               0.0            0.0   \n",
              "3              1.0               1.0               0.0            0.0   \n",
              "4              1.0               1.0               0.0            0.0   \n",
              "\n",
              "  direction_opp    Y  \n",
              "0           1.0  1.0  \n",
              "1           1.0  0.0  \n",
              "2           1.0  1.0  \n",
              "3           1.0  0.0  \n",
              "4           1.0  0.0  \n",
              "\n",
              "[5 rows x 26 columns]"
            ],
            "text/html": [
              "\n",
              "  <div id=\"df-13901dff-9dc9-4567-bc21-ea252d53914d\" class=\"colab-df-container\">\n",
              "    <div>\n",
              "<style scoped>\n",
              "    .dataframe tbody tr th:only-of-type {\n",
              "        vertical-align: middle;\n",
              "    }\n",
              "\n",
              "    .dataframe tbody tr th {\n",
              "        vertical-align: top;\n",
              "    }\n",
              "\n",
              "    .dataframe thead th {\n",
              "        text-align: right;\n",
              "    }\n",
              "</style>\n",
              "<table border=\"1\" class=\"dataframe\">\n",
              "  <thead>\n",
              "    <tr style=\"text-align: right;\">\n",
              "      <th></th>\n",
              "      <th>destination</th>\n",
              "      <th>passanger</th>\n",
              "      <th>weather</th>\n",
              "      <th>temperature</th>\n",
              "      <th>time</th>\n",
              "      <th>coupon</th>\n",
              "      <th>expiration</th>\n",
              "      <th>gender</th>\n",
              "      <th>age</th>\n",
              "      <th>maritalStatus</th>\n",
              "      <th>...</th>\n",
              "      <th>CoffeeHouse</th>\n",
              "      <th>CarryAway</th>\n",
              "      <th>RestaurantLessThan20</th>\n",
              "      <th>Restaurant20To50</th>\n",
              "      <th>toCoupon_GEQ5min</th>\n",
              "      <th>toCoupon_GEQ15min</th>\n",
              "      <th>toCoupon_GEQ25min</th>\n",
              "      <th>direction_same</th>\n",
              "      <th>direction_opp</th>\n",
              "      <th>Y</th>\n",
              "    </tr>\n",
              "  </thead>\n",
              "  <tbody>\n",
              "    <tr>\n",
              "      <th>0</th>\n",
              "      <td>No Urgent Place</td>\n",
              "      <td>Alone</td>\n",
              "      <td>Sunny</td>\n",
              "      <td>55</td>\n",
              "      <td>2PM</td>\n",
              "      <td>Restaurant(&lt;20)</td>\n",
              "      <td>1d</td>\n",
              "      <td>Female</td>\n",
              "      <td>21</td>\n",
              "      <td>Unmarried partner</td>\n",
              "      <td>...</td>\n",
              "      <td>never</td>\n",
              "      <td>NaN</td>\n",
              "      <td>4~8</td>\n",
              "      <td>1~3</td>\n",
              "      <td>1.0</td>\n",
              "      <td>0.0</td>\n",
              "      <td>0.0</td>\n",
              "      <td>0.0</td>\n",
              "      <td>1.0</td>\n",
              "      <td>1.0</td>\n",
              "    </tr>\n",
              "    <tr>\n",
              "      <th>1</th>\n",
              "      <td>No Urgent Place</td>\n",
              "      <td>Friend(s)</td>\n",
              "      <td>Sunny</td>\n",
              "      <td>80</td>\n",
              "      <td>10AM</td>\n",
              "      <td>Coffee House</td>\n",
              "      <td>2h</td>\n",
              "      <td>Female</td>\n",
              "      <td>21</td>\n",
              "      <td>Unmarried partner</td>\n",
              "      <td>...</td>\n",
              "      <td>never</td>\n",
              "      <td>NaN</td>\n",
              "      <td>4~8</td>\n",
              "      <td>1~3</td>\n",
              "      <td>1.0</td>\n",
              "      <td>0.0</td>\n",
              "      <td>0.0</td>\n",
              "      <td>0.0</td>\n",
              "      <td>1.0</td>\n",
              "      <td>0.0</td>\n",
              "    </tr>\n",
              "    <tr>\n",
              "      <th>2</th>\n",
              "      <td>No Urgent Place</td>\n",
              "      <td>Friend(s)</td>\n",
              "      <td>Sunny</td>\n",
              "      <td>80</td>\n",
              "      <td>10AM</td>\n",
              "      <td>Carry out &amp; Take away</td>\n",
              "      <td>2h</td>\n",
              "      <td>Female</td>\n",
              "      <td>21</td>\n",
              "      <td>Unmarried partner</td>\n",
              "      <td>...</td>\n",
              "      <td>never</td>\n",
              "      <td>NaN</td>\n",
              "      <td>4~8</td>\n",
              "      <td>1~3</td>\n",
              "      <td>1.0</td>\n",
              "      <td>1.0</td>\n",
              "      <td>0.0</td>\n",
              "      <td>0.0</td>\n",
              "      <td>1.0</td>\n",
              "      <td>1.0</td>\n",
              "    </tr>\n",
              "    <tr>\n",
              "      <th>3</th>\n",
              "      <td>No Urgent Place</td>\n",
              "      <td>Friend(s)</td>\n",
              "      <td>Sunny</td>\n",
              "      <td>80</td>\n",
              "      <td>2PM</td>\n",
              "      <td>Coffee House</td>\n",
              "      <td>2h</td>\n",
              "      <td>Female</td>\n",
              "      <td>21</td>\n",
              "      <td>Unmarried partner</td>\n",
              "      <td>...</td>\n",
              "      <td>never</td>\n",
              "      <td>NaN</td>\n",
              "      <td>4~8</td>\n",
              "      <td>1~3</td>\n",
              "      <td>1.0</td>\n",
              "      <td>1.0</td>\n",
              "      <td>0.0</td>\n",
              "      <td>0.0</td>\n",
              "      <td>1.0</td>\n",
              "      <td>0.0</td>\n",
              "    </tr>\n",
              "    <tr>\n",
              "      <th>4</th>\n",
              "      <td>No Urgent Place</td>\n",
              "      <td>Friend(s)</td>\n",
              "      <td>Sunny</td>\n",
              "      <td>80</td>\n",
              "      <td>2PM</td>\n",
              "      <td>Coffee House</td>\n",
              "      <td>1d</td>\n",
              "      <td>Female</td>\n",
              "      <td>21</td>\n",
              "      <td>Unmarried partner</td>\n",
              "      <td>...</td>\n",
              "      <td>never</td>\n",
              "      <td>NaN</td>\n",
              "      <td>4~8</td>\n",
              "      <td>1~3</td>\n",
              "      <td>1.0</td>\n",
              "      <td>1.0</td>\n",
              "      <td>0.0</td>\n",
              "      <td>0.0</td>\n",
              "      <td>1.0</td>\n",
              "      <td>0.0</td>\n",
              "    </tr>\n",
              "  </tbody>\n",
              "</table>\n",
              "<p>5 rows × 26 columns</p>\n",
              "</div>\n",
              "    <div class=\"colab-df-buttons\">\n",
              "\n",
              "  <div class=\"colab-df-container\">\n",
              "    <button class=\"colab-df-convert\" onclick=\"convertToInteractive('df-13901dff-9dc9-4567-bc21-ea252d53914d')\"\n",
              "            title=\"Convert this dataframe to an interactive table.\"\n",
              "            style=\"display:none;\">\n",
              "\n",
              "  <svg xmlns=\"http://www.w3.org/2000/svg\" height=\"24px\" viewBox=\"0 -960 960 960\">\n",
              "    <path d=\"M120-120v-720h720v720H120Zm60-500h600v-160H180v160Zm220 220h160v-160H400v160Zm0 220h160v-160H400v160ZM180-400h160v-160H180v160Zm440 0h160v-160H620v160ZM180-180h160v-160H180v160Zm440 0h160v-160H620v160Z\"/>\n",
              "  </svg>\n",
              "    </button>\n",
              "\n",
              "  <style>\n",
              "    .colab-df-container {\n",
              "      display:flex;\n",
              "      gap: 12px;\n",
              "    }\n",
              "\n",
              "    .colab-df-convert {\n",
              "      background-color: #E8F0FE;\n",
              "      border: none;\n",
              "      border-radius: 50%;\n",
              "      cursor: pointer;\n",
              "      display: none;\n",
              "      fill: #1967D2;\n",
              "      height: 32px;\n",
              "      padding: 0 0 0 0;\n",
              "      width: 32px;\n",
              "    }\n",
              "\n",
              "    .colab-df-convert:hover {\n",
              "      background-color: #E2EBFA;\n",
              "      box-shadow: 0px 1px 2px rgba(60, 64, 67, 0.3), 0px 1px 3px 1px rgba(60, 64, 67, 0.15);\n",
              "      fill: #174EA6;\n",
              "    }\n",
              "\n",
              "    .colab-df-buttons div {\n",
              "      margin-bottom: 4px;\n",
              "    }\n",
              "\n",
              "    [theme=dark] .colab-df-convert {\n",
              "      background-color: #3B4455;\n",
              "      fill: #D2E3FC;\n",
              "    }\n",
              "\n",
              "    [theme=dark] .colab-df-convert:hover {\n",
              "      background-color: #434B5C;\n",
              "      box-shadow: 0px 1px 3px 1px rgba(0, 0, 0, 0.15);\n",
              "      filter: drop-shadow(0px 1px 2px rgba(0, 0, 0, 0.3));\n",
              "      fill: #FFFFFF;\n",
              "    }\n",
              "  </style>\n",
              "\n",
              "    <script>\n",
              "      const buttonEl =\n",
              "        document.querySelector('#df-13901dff-9dc9-4567-bc21-ea252d53914d button.colab-df-convert');\n",
              "      buttonEl.style.display =\n",
              "        google.colab.kernel.accessAllowed ? 'block' : 'none';\n",
              "\n",
              "      async function convertToInteractive(key) {\n",
              "        const element = document.querySelector('#df-13901dff-9dc9-4567-bc21-ea252d53914d');\n",
              "        const dataTable =\n",
              "          await google.colab.kernel.invokeFunction('convertToInteractive',\n",
              "                                                    [key], {});\n",
              "        if (!dataTable) return;\n",
              "\n",
              "        const docLinkHtml = 'Like what you see? Visit the ' +\n",
              "          '<a target=\"_blank\" href=https://colab.research.google.com/notebooks/data_table.ipynb>data table notebook</a>'\n",
              "          + ' to learn more about interactive tables.';\n",
              "        element.innerHTML = '';\n",
              "        dataTable['output_type'] = 'display_data';\n",
              "        await google.colab.output.renderOutput(dataTable, element);\n",
              "        const docLink = document.createElement('div');\n",
              "        docLink.innerHTML = docLinkHtml;\n",
              "        element.appendChild(docLink);\n",
              "      }\n",
              "    </script>\n",
              "  </div>\n",
              "\n",
              "\n",
              "<div id=\"df-17858008-b924-428e-a64c-02623123e416\">\n",
              "  <button class=\"colab-df-quickchart\" onclick=\"quickchart('df-17858008-b924-428e-a64c-02623123e416')\"\n",
              "            title=\"Suggest charts.\"\n",
              "            style=\"display:none;\">\n",
              "\n",
              "<svg xmlns=\"http://www.w3.org/2000/svg\" height=\"24px\"viewBox=\"0 0 24 24\"\n",
              "     width=\"24px\">\n",
              "    <g>\n",
              "        <path d=\"M19 3H5c-1.1 0-2 .9-2 2v14c0 1.1.9 2 2 2h14c1.1 0 2-.9 2-2V5c0-1.1-.9-2-2-2zM9 17H7v-7h2v7zm4 0h-2V7h2v10zm4 0h-2v-4h2v4z\"/>\n",
              "    </g>\n",
              "</svg>\n",
              "  </button>\n",
              "\n",
              "<style>\n",
              "  .colab-df-quickchart {\n",
              "      --bg-color: #E8F0FE;\n",
              "      --fill-color: #1967D2;\n",
              "      --hover-bg-color: #E2EBFA;\n",
              "      --hover-fill-color: #174EA6;\n",
              "      --disabled-fill-color: #AAA;\n",
              "      --disabled-bg-color: #DDD;\n",
              "  }\n",
              "\n",
              "  [theme=dark] .colab-df-quickchart {\n",
              "      --bg-color: #3B4455;\n",
              "      --fill-color: #D2E3FC;\n",
              "      --hover-bg-color: #434B5C;\n",
              "      --hover-fill-color: #FFFFFF;\n",
              "      --disabled-bg-color: #3B4455;\n",
              "      --disabled-fill-color: #666;\n",
              "  }\n",
              "\n",
              "  .colab-df-quickchart {\n",
              "    background-color: var(--bg-color);\n",
              "    border: none;\n",
              "    border-radius: 50%;\n",
              "    cursor: pointer;\n",
              "    display: none;\n",
              "    fill: var(--fill-color);\n",
              "    height: 32px;\n",
              "    padding: 0;\n",
              "    width: 32px;\n",
              "  }\n",
              "\n",
              "  .colab-df-quickchart:hover {\n",
              "    background-color: var(--hover-bg-color);\n",
              "    box-shadow: 0 1px 2px rgba(60, 64, 67, 0.3), 0 1px 3px 1px rgba(60, 64, 67, 0.15);\n",
              "    fill: var(--button-hover-fill-color);\n",
              "  }\n",
              "\n",
              "  .colab-df-quickchart-complete:disabled,\n",
              "  .colab-df-quickchart-complete:disabled:hover {\n",
              "    background-color: var(--disabled-bg-color);\n",
              "    fill: var(--disabled-fill-color);\n",
              "    box-shadow: none;\n",
              "  }\n",
              "\n",
              "  .colab-df-spinner {\n",
              "    border: 2px solid var(--fill-color);\n",
              "    border-color: transparent;\n",
              "    border-bottom-color: var(--fill-color);\n",
              "    animation:\n",
              "      spin 1s steps(1) infinite;\n",
              "  }\n",
              "\n",
              "  @keyframes spin {\n",
              "    0% {\n",
              "      border-color: transparent;\n",
              "      border-bottom-color: var(--fill-color);\n",
              "      border-left-color: var(--fill-color);\n",
              "    }\n",
              "    20% {\n",
              "      border-color: transparent;\n",
              "      border-left-color: var(--fill-color);\n",
              "      border-top-color: var(--fill-color);\n",
              "    }\n",
              "    30% {\n",
              "      border-color: transparent;\n",
              "      border-left-color: var(--fill-color);\n",
              "      border-top-color: var(--fill-color);\n",
              "      border-right-color: var(--fill-color);\n",
              "    }\n",
              "    40% {\n",
              "      border-color: transparent;\n",
              "      border-right-color: var(--fill-color);\n",
              "      border-top-color: var(--fill-color);\n",
              "    }\n",
              "    60% {\n",
              "      border-color: transparent;\n",
              "      border-right-color: var(--fill-color);\n",
              "    }\n",
              "    80% {\n",
              "      border-color: transparent;\n",
              "      border-right-color: var(--fill-color);\n",
              "      border-bottom-color: var(--fill-color);\n",
              "    }\n",
              "    90% {\n",
              "      border-color: transparent;\n",
              "      border-bottom-color: var(--fill-color);\n",
              "    }\n",
              "  }\n",
              "</style>\n",
              "\n",
              "  <script>\n",
              "    async function quickchart(key) {\n",
              "      const quickchartButtonEl =\n",
              "        document.querySelector('#' + key + ' button');\n",
              "      quickchartButtonEl.disabled = true;  // To prevent multiple clicks.\n",
              "      quickchartButtonEl.classList.add('colab-df-spinner');\n",
              "      try {\n",
              "        const charts = await google.colab.kernel.invokeFunction(\n",
              "            'suggestCharts', [key], {});\n",
              "      } catch (error) {\n",
              "        console.error('Error during call to suggestCharts:', error);\n",
              "      }\n",
              "      quickchartButtonEl.classList.remove('colab-df-spinner');\n",
              "      quickchartButtonEl.classList.add('colab-df-quickchart-complete');\n",
              "    }\n",
              "    (() => {\n",
              "      let quickchartButtonEl =\n",
              "        document.querySelector('#df-17858008-b924-428e-a64c-02623123e416 button');\n",
              "      quickchartButtonEl.style.display =\n",
              "        google.colab.kernel.accessAllowed ? 'block' : 'none';\n",
              "    })();\n",
              "  </script>\n",
              "</div>\n",
              "    </div>\n",
              "  </div>\n"
            ]
          },
          "metadata": {},
          "execution_count": 6
        }
      ],
      "source": [
        "data.head()"
      ]
    },
    {
      "cell_type": "markdown",
      "metadata": {
        "id": "HX0HhHBx6HfY"
      },
      "source": [
        "2. Investigate the dataset for missing or problematic data."
      ]
    },
    {
      "cell_type": "code",
      "execution_count": 7,
      "metadata": {
        "colab": {
          "base_uri": "https://localhost:8080/"
        },
        "id": "ZA3Ssjvl6HfY",
        "outputId": "3a27b057-7128-4346-fb67-12e50169a335"
      },
      "outputs": [
        {
          "output_type": "execute_result",
          "data": {
            "text/plain": [
              "destination                0\n",
              "passanger                  0\n",
              "weather                    0\n",
              "temperature                0\n",
              "time                       0\n",
              "coupon                     0\n",
              "expiration                 0\n",
              "gender                     0\n",
              "age                        0\n",
              "maritalStatus              0\n",
              "has_children               0\n",
              "education                  0\n",
              "occupation                 0\n",
              "income                     0\n",
              "car                     6115\n",
              "Bar                       64\n",
              "CoffeeHouse              107\n",
              "CarryAway                107\n",
              "RestaurantLessThan20     109\n",
              "Restaurant20To50          86\n",
              "toCoupon_GEQ5min           1\n",
              "toCoupon_GEQ15min          1\n",
              "toCoupon_GEQ25min          1\n",
              "direction_same             1\n",
              "direction_opp              1\n",
              "Y                          1\n",
              "dtype: int64"
            ]
          },
          "metadata": {},
          "execution_count": 7
        }
      ],
      "source": [
        "data.isnull().sum()"
      ]
    },
    {
      "cell_type": "markdown",
      "metadata": {
        "id": "CZ91fj9k6HfZ"
      },
      "source": [
        "3. Decide what to do about your missing data -- drop, replace, other..."
      ]
    },
    {
      "cell_type": "code",
      "execution_count": 14,
      "metadata": {
        "colab": {
          "base_uri": "https://localhost:8080/"
        },
        "id": "YiqonFQH6HfZ",
        "outputId": "149063a5-d6e8-4033-973c-6badafdeffb6"
      },
      "outputs": [
        {
          "output_type": "execute_result",
          "data": {
            "text/plain": [
              "destination             0\n",
              "passanger               0\n",
              "weather                 0\n",
              "temperature             0\n",
              "time                    0\n",
              "coupon                  0\n",
              "expiration              0\n",
              "gender                  0\n",
              "age                     0\n",
              "maritalStatus           0\n",
              "has_children            0\n",
              "education               0\n",
              "occupation              0\n",
              "income                  0\n",
              "Bar                     0\n",
              "CoffeeHouse             0\n",
              "CarryAway               0\n",
              "RestaurantLessThan20    0\n",
              "Restaurant20To50        0\n",
              "toCoupon_GEQ5min        1\n",
              "toCoupon_GEQ15min       1\n",
              "toCoupon_GEQ25min       1\n",
              "direction_same          1\n",
              "direction_opp           1\n",
              "Y                       1\n",
              "dtype: int64"
            ]
          },
          "metadata": {},
          "execution_count": 14
        }
      ],
      "source": [
        "#Removing car column due to all rows being null\n",
        "data['car'].head()\n",
        "cp = data.drop(['car'], axis=1)\n",
        "\n",
        "#Replace all nevers and nulls with 0 for Bar, CarryAway, RestaurantLessThan20, CoffeeHouse, and Restaurant20To50\n",
        "data['Bar'].fillna(0, inplace=True)\n",
        "data['Bar'].replace('never', 0, inplace=True)\n",
        "data['Bar'].head()\n",
        "\n",
        "data['CarryAway'].fillna(0, inplace=True)\n",
        "data['CarryAway'].head()\n",
        "\n",
        "data['RestaurantLessThan20'].head()\n",
        "data['RestaurantLessThan20'].fillna(0,inplace=True)\n",
        "data['RestaurantLessThan20'].head()\n",
        "\n",
        "data['CoffeeHouse'].fillna(0, inplace=True)\n",
        "data['CoffeeHouse'].replace('never', 0, inplace=True)\n",
        "\n",
        "data['Restaurant20To50'].dropna()\n",
        "data['Restaurant20To50'].fillna(0, inplace=True)\n",
        "data['Restaurant20To50'].replace('never', 0, inplace=True)\n",
        "\n",
        "cp.isnull().sum()"
      ]
    },
    {
      "cell_type": "markdown",
      "metadata": {
        "id": "xSe5zrtC6HfZ"
      },
      "source": [
        "4. What proportion of the total observations chose to accept the coupon?\n",
        "\n"
      ]
    },
    {
      "cell_type": "code",
      "execution_count": 15,
      "metadata": {
        "colab": {
          "base_uri": "https://localhost:8080/"
        },
        "id": "eE9FF84c6HfZ",
        "outputId": "d5a8a7fb-48f9-4acf-809d-b81c20ca0064"
      },
      "outputs": [
        {
          "output_type": "stream",
          "name": "stdout",
          "text": [
            "0.5815533980582525\n"
          ]
        }
      ],
      "source": [
        "accept_coupon = len(cp[cp['Y'] != 0])\n",
        "proportion = accept_coupon/ len(cp['Y'])\n",
        "print(proportion)"
      ]
    },
    {
      "cell_type": "markdown",
      "metadata": {
        "id": "rgmI20B96HfZ"
      },
      "source": [
        "5. Use a bar plot to visualize the `coupon` column."
      ]
    },
    {
      "cell_type": "code",
      "execution_count": 16,
      "metadata": {
        "colab": {
          "base_uri": "https://localhost:8080/",
          "height": 667
        },
        "id": "B4jW3fNg6HfZ",
        "outputId": "29e1d2a1-f6b3-4906-97b5-b70e4699e81f"
      },
      "outputs": [
        {
          "output_type": "execute_result",
          "data": {
            "text/plain": [
              "[Text(0, 0, 'Restaurant(<20)'),\n",
              " Text(1, 0, 'Coffee House'),\n",
              " Text(2, 0, 'Carry out & Take away'),\n",
              " Text(3, 0, 'Bar'),\n",
              " Text(4, 0, 'Restaurant(20-50)')]"
            ]
          },
          "metadata": {},
          "execution_count": 16
        },
        {
          "output_type": "display_data",
          "data": {
            "text/plain": [
              "<Figure size 640x480 with 1 Axes>"
            ],
            "image/png": "[encoded data removed]"
          },
          "metadata": {}
        }
      ],
      "source": [
        "ax = sns.barplot(cp, x='coupon', y='Y', estimator='sum', )\n",
        "ax.set(xlabel='Coupon Type', ylabel='Total number of Coupons', title='Total Number of Coupons Used by Coupon Type')\n",
        "ax.set_xticklabels(ax.get_xticklabels(),rotation=45)\n"
      ]
    },
    {
      "cell_type": "markdown",
      "metadata": {
        "id": "3RlFfPBq6HfZ"
      },
      "source": [
        "6. Use a histogram to visualize the temperature column."
      ]
    },
    {
      "cell_type": "code",
      "execution_count": 17,
      "metadata": {
        "id": "MKYKbc2v6Hfa",
        "colab": {
          "base_uri": "https://localhost:8080/",
          "height": 526
        },
        "outputId": "aec83d27-4375-4022-e5ae-8738df8ef468"
      },
      "outputs": [
        {
          "output_type": "execute_result",
          "data": {
            "text/plain": [
              "[Text(0.5, 0, 'Temperature'),\n",
              " Text(0, 0.5, 'Total Amount'),\n",
              " Text(0.5, 1.0, 'Total Count by Each Temperature')]"
            ]
          },
          "metadata": {},
          "execution_count": 17
        },
        {
          "output_type": "display_data",
          "data": {
            "text/plain": [
              "<Figure size 640x480 with 1 Axes>"
            ],
            "image/png": "[encoded data removed]"
          },
          "metadata": {}
        }
      ],
      "source": [
        "plt = sns.histplot(cp, x='temperature')\n",
        "plt.set(xlabel='Temperature', ylabel='Total Amount', title='Total Count by Each Temperature')"
      ]
    },
    {
      "cell_type": "code",
      "execution_count": 21,
      "metadata": {
        "id": "q2Omv9aB6Hfa"
      },
      "outputs": [],
      "source": []
    },
    {
      "cell_type": "code",
      "execution_count": null,
      "metadata": {
        "id": "G-y85EAD6Hfa"
      },
      "outputs": [],
      "source": []
    },
    {
      "cell_type": "code",
      "source": [],
      "metadata": {
        "id": "Vv_P7Wij4oos"
      },
      "execution_count": null,
      "outputs": []
    },
    {
      "cell_type": "code",
      "execution_count": null,
      "metadata": {
        "id": "Nq3NHrct6Hfa"
      },
      "outputs": [],
      "source": []
    },
    {
      "cell_type": "code",
      "execution_count": null,
      "metadata": {
        "id": "1gBG2QXf6Hfa"
      },
      "outputs": [],
      "source": []
    },
    {
      "cell_type": "markdown",
      "metadata": {
        "id": "xVTqs3ID6Hfa"
      },
      "source": [
        "**Investigating the Bar Coupons**\n",
        "\n",
        "Now, we will lead you through an exploration of just the bar related coupons.  \n",
        "\n",
        "1. Create a new `DataFrame` that contains just the bar coupons.\n"
      ]
    },
    {
      "cell_type": "code",
      "execution_count": 13,
      "metadata": {
        "id": "GsjWxjq76Hfa",
        "colab": {
          "base_uri": "https://localhost:8080/"
        },
        "outputId": "15abf9d7-4506-4134-f484-6d72f63e7645"
      },
      "outputs": [
        {
          "output_type": "stream",
          "name": "stdout",
          "text": [
            "        Bar                 coupon    Y\n",
            "0     never        Restaurant(<20)  1.0\n",
            "1     never           Coffee House  0.0\n",
            "2     never  Carry out & Take away  1.0\n",
            "3     never           Coffee House  0.0\n",
            "4     never           Coffee House  0.0\n",
            "...     ...                    ...  ...\n",
            "6175  never           Coffee House  1.0\n",
            "6176  never      Restaurant(20-50)  1.0\n",
            "6177  never           Coffee House  1.0\n",
            "6178  never           Coffee House  1.0\n",
            "6179  never        Restaurant(<20)  NaN\n",
            "\n",
            "[6180 rows x 3 columns]\n"
          ]
        }
      ],
      "source": [
        "df = cp[['Bar', 'coupon', 'Y']]\n",
        "print(df)"
      ]
    },
    {
      "cell_type": "markdown",
      "metadata": {
        "id": "klz19kTl6Hfa"
      },
      "source": [
        "2. What proportion of bar coupons were accepted?\n"
      ]
    },
    {
      "cell_type": "code",
      "execution_count": 19,
      "metadata": {
        "id": "LZ0BmYEU6Hfa",
        "colab": {
          "base_uri": "https://localhost:8080/"
        },
        "outputId": "a83b77aa-5c47-4d9f-e200-de5f522e22e7"
      },
      "outputs": [
        {
          "output_type": "stream",
          "name": "stdout",
          "text": [
            "0.5813915857605177\n"
          ]
        }
      ],
      "source": [
        "accepted_coupons = df[(df['Bar'] != 0) & (df['Y'] == 1)]['Bar'].shape[0]\n",
        "proportion_of_accepted = accepted_coupons/df.shape[0]\n",
        "print(proportion_of_accepted)"
      ]
    },
    {
      "cell_type": "markdown",
      "metadata": {
        "id": "g1f4XnPD6Hfa"
      },
      "source": [
        "3. Compare the acceptance rate between those who went to a bar 3 or fewer times a month to those who went more.\n"
      ]
    },
    {
      "cell_type": "code",
      "execution_count": 20,
      "metadata": {
        "id": "ahfXWAJ_6Hfa",
        "colab": {
          "base_uri": "https://localhost:8080/"
        },
        "outputId": "966b6666-370f-43ce-a495-15f78625673a"
      },
      "outputs": [
        {
          "output_type": "stream",
          "name": "stdout",
          "text": [
            "0.4519417475728155\n",
            "0.5480582524271844\n"
          ]
        }
      ],
      "source": [
        "#Filtering out\n",
        "less_than_3 = df[(df['Bar'] == 'less1') | (df['Bar'] == '1~3') | (df['Bar'] == '0') & (df['Y'] == 1)].shape[0]\n",
        "less_than_3_acceptance = less_than_3/df.shape[0]\n",
        "print(less_than_3_acceptance)\n",
        "more_than_3_acceptance = 1 - less_than_3_acceptance\n",
        "print(more_than_3_acceptance)"
      ]
    },
    {
      "cell_type": "code",
      "source": [
        "\n"
      ],
      "metadata": {
        "id": "GV-mgnWx_XSa"
      },
      "execution_count": 66,
      "outputs": []
    },
    {
      "cell_type": "markdown",
      "metadata": {
        "id": "QvNsUs4H6Hfb"
      },
      "source": [
        "4. Compare the acceptance rate between drivers who go to a bar more than once a month and are over the age of 25 to the all others.  Is there a difference?\n"
      ]
    },
    {
      "cell_type": "code",
      "execution_count": 23,
      "metadata": {
        "id": "bE-tXC8u6Hfb",
        "colab": {
          "base_uri": "https://localhost:8080/"
        },
        "outputId": "77e65b10-cc5f-4e86-e679-88ea4ebefea5"
      },
      "outputs": [
        {
          "output_type": "stream",
          "name": "stdout",
          "text": [
            "0.4184466019417476\n",
            "0.5815533980582523\n"
          ]
        },
        {
          "output_type": "stream",
          "name": "stderr",
          "text": [
            "<ipython-input-23-9b01657c043f>:2: SettingWithCopyWarning: \n",
            "A value is trying to be set on a copy of a slice from a DataFrame\n",
            "\n",
            "See the caveats in the documentation: https://pandas.pydata.org/pandas-docs/stable/user_guide/indexing.html#returning-a-view-versus-a-copy\n",
            "  df_age['age'].replace('50plus', 50, inplace=True)\n",
            "<ipython-input-23-9b01657c043f>:3: SettingWithCopyWarning: \n",
            "A value is trying to be set on a copy of a slice from a DataFrame\n",
            "\n",
            "See the caveats in the documentation: https://pandas.pydata.org/pandas-docs/stable/user_guide/indexing.html#returning-a-view-versus-a-copy\n",
            "  df_age['age'].replace('below21', 20, inplace=True)\n"
          ]
        }
      ],
      "source": [
        "df_age = cp[['Bar', 'coupon', 'age', 'Y']]\n",
        "df_age['age'].replace('50plus', 50, inplace=True)\n",
        "df_age['age'].replace('below21', 20, inplace=True)\n",
        "\n",
        "more_than_once_month = df_age[((df_age['Bar'] != 'less1') | (df_age['Bar'] != '0')) & (df_age['age'].astype(int) >= 25) & (df_age['Y'] == 1)].shape[0]\n",
        "more_than_once_month_acceptance = more_than_once_month/df.shape[0]\n",
        "print(more_than_once_month_acceptance)\n",
        "less_than_once_acceptance = 1 - more_than_once_month_acceptance\n",
        "print(less_than_once_acceptance)\n"
      ]
    },
    {
      "cell_type": "markdown",
      "source": [
        "The acceptance rate for those who got to a bar more than once and are over the age of 25 is much higher than those who went less times. This makes sense since those that go more often will be more likely to take advantage of a coupon to get a better price."
      ],
      "metadata": {
        "id": "-cPtePeUD2wz"
      }
    },
    {
      "cell_type": "markdown",
      "metadata": {
        "id": "JUqM7Ca26Hfb"
      },
      "source": [
        "5. Use the same process to compare the acceptance rate between drivers who go to bars more than once a month and had passengers that were not a kid and had occupations other than farming, fishing, or forestry.\n"
      ]
    },
    {
      "cell_type": "code",
      "execution_count": 24,
      "metadata": {
        "id": "Ob_umzdj6Hfb",
        "colab": {
          "base_uri": "https://localhost:8080/"
        },
        "outputId": "4973ac4e-9282-4648-b62f-0fa519c2f610"
      },
      "outputs": [
        {
          "output_type": "stream",
          "name": "stdout",
          "text": [
            "0.5364077669902912\n",
            "0.46359223300970875\n"
          ]
        }
      ],
      "source": [
        "df_pass_occ = cp[['Bar', 'coupon', 'passanger', 'occupation', 'Y']]\n",
        "more_than_once_pass_occ = df_pass_occ[((df_pass_occ['Bar'] != 'less1') | (df_pass_occ['Bar'] != '0')) & (df_pass_occ['passanger'] != 'Kid(s)') & (df_pass_occ['occupation'] != 'Farming Fishing & Forestry') & (df_pass_occ['Y'] == 1)]\n",
        "more_than_once_pass_occ_rate = more_than_once_pass_occ.shape[0] / df_pass_occ.shape[0]\n",
        "print(more_than_once_pass_occ_rate)\n",
        "less_than_once_pass_occ_rate = 1 - more_than_once_pass_occ_rate\n",
        "print(less_than_once_pass_occ_rate)"
      ]
    },
    {
      "cell_type": "markdown",
      "metadata": {
        "id": "WnAadLZb6Hfb"
      },
      "source": [
        "6. Compare the acceptance rates between those drivers who:\n",
        "\n",
        "- go to bars more than once a month, had passengers that were not a kid, and were not widowed *OR*\n",
        "- go to bars more than once a month and are under the age of 30 *OR*\n",
        "- go to cheap restaurants more than 4 times a month and income is less than 50K.\n",
        "\n"
      ]
    },
    {
      "cell_type": "code",
      "execution_count": 25,
      "metadata": {
        "id": "1RM9YcIg6Hfb",
        "colab": {
          "base_uri": "https://localhost:8080/"
        },
        "outputId": "9b55beac-497f-42ca-c02a-6534ec97d699"
      },
      "outputs": [
        {
          "output_type": "stream",
          "name": "stdout",
          "text": [
            "0.8720064724919094\n",
            "0.3953074433656958\n",
            "0.4540453074433657\n"
          ]
        }
      ],
      "source": [
        "df_ = cp[['age', 'Bar', 'coupon', 'passanger', 'occupation', 'maritalStatus', 'income', 'RestaurantLessThan20', 'Y']]\n",
        "more_than_once_pass_marital = df_[((df_['Bar'] != 'less1') | (df_['Bar'] != '0') & (df_['passanger'] != 'Kid(s)') & (df_['maritalStatus'] != 'Widowed') & (df_['Y'] == 1))]\n",
        "more_than_once_under_age = df_[((df_['Bar'] != 'less1') | (df_['Bar'] != '0')) & ((df_['age'] == '21') | (df_['age'] == 'below21') | (df_['age'] == '26') & (df_['Y'] == 1))]\n",
        "cheap_rest_income = df_[((df_['RestaurantLessThan20'] == '4~8') | (df_['RestaurantLessThan20'] == 'gt8')) | (df_['income'] == '$37500 - $49999') & (df_['Y'] == 1)]\n",
        "more_than_once_pass_marital_rate = more_than_once_pass_marital.shape[0] / df_.shape[0]\n",
        "more_than_once_under_age_rate = more_than_once_under_age.shape[0] / df_.shape[0]\n",
        "cheap_rest_income_rate = cheap_rest_income.shape[0] / df_.shape[0]\n",
        "\n",
        "print(more_than_once_pass_marital_rate)\n",
        "print(more_than_once_under_age_rate)\n",
        "print(cheap_rest_income_rate)"
      ]
    },
    {
      "cell_type": "markdown",
      "metadata": {
        "id": "ohJ7wZDb6Hfb"
      },
      "source": [
        "7.  Based on these observations, what do you hypothesize about drivers who accepted the bar coupons?"
      ]
    },
    {
      "cell_type": "markdown",
      "source": [
        "I hypothesize that a majority of who accepted the bar coupon are primairly older than 30 and do not have children and are not married."
      ],
      "metadata": {
        "id": "H-ojVByGw3x3"
      }
    },
    {
      "cell_type": "markdown",
      "metadata": {
        "id": "bG2UXh3y6Hfb"
      },
      "source": [
        "### Independent Investigation\n",
        "\n",
        "Using the bar coupon example as motivation, you are to explore one of the other coupon groups and try to determine the characteristics of passengers who accept the coupons.  "
      ]
    },
    {
      "cell_type": "markdown",
      "source": [
        "Exploring Take Out Coupons and characteristics of those who accept the coupon\n",
        "\n",
        "1. What are the acceptance rates of those who take out food more than 4 times a month and go to cheap\n",
        "restaurants more than 4 times a month\n",
        "2. What are the acceptance rates of those who take out food 1 or less times a month and are married\n",
        "3. What are the acceptance rates of those who take out food more than one time a month and have no passengers and are single"
      ],
      "metadata": {
        "id": "4pxPUdscyMBv"
      }
    },
    {
      "cell_type": "code",
      "execution_count": 27,
      "metadata": {
        "id": "zFqUDkqY6Hfb"
      },
      "outputs": [],
      "source": [
        "df_takeout = cp[['age', 'CarryAway', 'coupon', 'passanger', 'occupation', 'maritalStatus', 'income', 'RestaurantLessThan20', 'Y']]"
      ]
    },
    {
      "cell_type": "code",
      "execution_count": 33,
      "metadata": {
        "id": "NrzCpq0y6Hfb",
        "colab": {
          "base_uri": "https://localhost:8080/"
        },
        "outputId": "eb5876dd-f514-4fc0-c39b-cff157f0c4e1"
      },
      "outputs": [
        {
          "output_type": "stream",
          "name": "stdout",
          "text": [
            "[0 '4~8' '1~3' 'gt8' 'less1' 'never' 'less']\n",
            "0.025728155339805825\n"
          ]
        }
      ],
      "source": [
        "#1.\n",
        "take_out_cheap = df_takeout[((df_takeout['CarryAway'] == '4-8') | (df_takeout['CarryAway'] == 'gt8')) & ((df_takeout['RestaurantLessThan20'] == '4-8') | (df_takeout['RestaurantLessThan20'] == 'gt8')) & (df_takeout['Y'] == 1)]\n",
        "take_out_cheap_rate = take_out_cheap.shape[0]/df_takeout.shape[0]\n",
        "print(take_out_cheap_rate)"
      ]
    },
    {
      "cell_type": "code",
      "execution_count": 37,
      "metadata": {
        "id": "0tpziRPJ6Hfb",
        "colab": {
          "base_uri": "https://localhost:8080/"
        },
        "outputId": "813090b1-df7d-4d07-9a64-39c1712324a3"
      },
      "outputs": [
        {
          "output_type": "stream",
          "name": "stdout",
          "text": [
            "0.0\n"
          ]
        }
      ],
      "source": [
        "#2.\n",
        "take_out_less_married = df_takeout[((df_takeout['CarryAway'] == '1') | (df_takeout['CarryAway'] == '0')) & ((df_takeout['maritalStatus'] == 'Married')) & (df_takeout['Y'] == 1)]\n",
        "take_out_cheap_rate = take_out_less_married.shape[0]/df_takeout.shape[0]\n",
        "print(take_out_cheap_rate)"
      ]
    },
    {
      "cell_type": "code",
      "execution_count": 42,
      "metadata": {
        "id": "JsJTDRNX6Hfc",
        "colab": {
          "base_uri": "https://localhost:8080/"
        },
        "outputId": "8b156315-f829-4f90-b968-2fc4cc48d959"
      },
      "outputs": [
        {
          "output_type": "stream",
          "name": "stdout",
          "text": [
            "['Alone' 'Friend(s)' 'Kid(s)' 'Partner']\n",
            "0.02459546925566343\n"
          ]
        }
      ],
      "source": [
        "#3.\n",
        "print(df_takeout['passanger'].unique())\n",
        "take_out_more_month_no = df_takeout[((df_takeout['CarryAway'] == '1') | (df_takeout['CarryAway'] == '1-3') | (df_takeout['CarryAway'] == '4-8') | (df_takeout['CarryAway'] == 'gt8')) & (df_takeout['maritalStatus'] == 'Single') & (df_takeout['passanger'] == \"Alone\") & (df_takeout['Y'] == 1)]\n",
        "take_out_cheap_rate = take_out_more_month_no.shape[0]/df_takeout.shape[0]\n",
        "print(take_out_cheap_rate)"
      ]
    },
    {
      "cell_type": "markdown",
      "source": [
        "Based on the above rates, we can tell that the acceptance rate for single and cheap restaurants is quite low. For instance, people who go to a cheap restaurant may not feel the need to use a coupon since it is already pretty affordable. Interestingly, single people were lower in using the coupon for take out which could a have a few implicaitons. One that there weren't enough single people in the survey. Or that majority single people do not do carryout from the restaurants surveyed."
      ],
      "metadata": {
        "id": "hAzeyg8647tl"
      }
    }
  ],
  "metadata": {
    "kernelspec": {
      "display_name": "Python 3",
      "language": "python",
      "name": "python3"
    },
    "language_info": {
      "codemirror_mode": {
        "name": "ipython",
        "version": 3
      },
      "file_extension": ".py",
      "mimetype": "text/x-python",
      "name": "python",
      "nbconvert_exporter": "python",
      "pygments_lexer": "ipython3",
      "version": "3.8.8"
    },
    "colab": {
      "provenance": []
    }
  },
  "nbformat": 4,
  "nbformat_minor": 0
}